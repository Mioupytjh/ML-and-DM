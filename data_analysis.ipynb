{
 "cells": [
  {
   "cell_type": "code",
   "execution_count": null,
   "metadata": {},
   "outputs": [],
   "source": [
    "import pandas as pd\n",
    "import numpy as np\n",
    "import statsmodels.api as sm\n",
    "import matplotlib.pyplot as plt"
   ]
  },
  {
   "cell_type": "code",
   "execution_count": null,
   "metadata": {},
   "outputs": [],
   "source": [
    "df = pd.read_csv('data/diamond.csv')\n",
    "\n",
    "df_org = df.copy()\n",
    "\n",
    "\n",
    "df.head(5)"
   ]
  },
  {
   "cell_type": "markdown",
   "metadata": {},
   "source": [
    "\n",
    "# Data description\n",
    "\n",
    "\n",
    "### Copied from source of dataset:\n",
    "Content price price in US dollars ($326--$18,823)\n",
    "\n",
    "carat weight of the diamond (0.2--5.01)\n",
    "\n",
    "cut quality of the cut (Fair, Good, Very Good, Premium, Ideal)\n",
    "\n",
    "color diamond colour, from J (worst) to D (best)\n",
    "\n",
    "clarity a measurement of how clear the diamond is (I1 (worst), SI2, SI1, VS2, VS1, VVS2, VVS1, IF (best))\n",
    "\n",
    "x length in mm (0--10.74)\n",
    "\n",
    "y width in mm (0--58.9)\n",
    "\n",
    "z depth in mm (0--31.8)\n",
    "\n",
    "depth total depth percentage = z / mean(x, y) = 2 * z / (x + y) (43--79)\n",
    "\n",
    "table width of top of diamond relative to widest point (43--95)\n",
    "\n",
    "https://www.openml.org/search?type=data&sort=runs&id=42225&status=active"
   ]
  },
  {
   "cell_type": "markdown",
   "metadata": {},
   "source": [
    "# Endcoding"
   ]
  },
  {
   "cell_type": "markdown",
   "metadata": {},
   "source": [
    "### Encoding color:\n",
    "\n",
    "We will encode them so high values = better and low values = worse"
   ]
  },
  {
   "cell_type": "code",
   "execution_count": null,
   "metadata": {},
   "outputs": [],
   "source": [
    "df['color'].unique()"
   ]
  },
  {
   "cell_type": "code",
   "execution_count": null,
   "metadata": {},
   "outputs": [],
   "source": [
    "color_mapping = {'J': 1, 'I': 2, 'H': 3, 'G': 4, 'F': 5, 'E': 6, 'D': 7}\n",
    "df['color'] = df['color'].map(color_mapping)\n"
   ]
  },
  {
   "cell_type": "markdown",
   "metadata": {},
   "source": [
    "### Encoding Cut Quality\n",
    "\n",
    "From the source describtion we are told that the cut quality is ordered from Fair to ideal\n",
    "\n",
    "Fair, Good, Very Good, Premium, Ideal"
   ]
  },
  {
   "cell_type": "code",
   "execution_count": null,
   "metadata": {},
   "outputs": [],
   "source": [
    "df['cut'].unique()"
   ]
  },
  {
   "cell_type": "code",
   "execution_count": null,
   "metadata": {},
   "outputs": [],
   "source": [
    "cut_mapping = {'Fair': 1, 'Good': 2, 'Very Good': 3, 'Premium': 4, 'Ideal': 5}\n",
    "df['cut'] = df['cut'].map(cut_mapping)\n"
   ]
  },
  {
   "cell_type": "markdown",
   "metadata": {},
   "source": [
    "### Encoding clarity\n",
    "\n",
    "(I1 (worst), SI2, SI1, VS2, VS1, VVS2, VVS1, IF (best))"
   ]
  },
  {
   "cell_type": "code",
   "execution_count": null,
   "metadata": {},
   "outputs": [],
   "source": [
    "df['clarity'].unique()"
   ]
  },
  {
   "cell_type": "code",
   "execution_count": null,
   "metadata": {},
   "outputs": [],
   "source": [
    "clarity_mapping = {'I1': 1, 'SI2': 2, 'SI1': 3, 'VS2': 4, 'VS1': 5, 'VVS2': 6, 'VVS1': 7, 'IF': 8}\n",
    "df['clarity'] = df['clarity'].map(clarity_mapping)"
   ]
  },
  {
   "cell_type": "code",
   "execution_count": null,
   "metadata": {},
   "outputs": [],
   "source": [
    "df[['cut', 'clarity', 'color']].head()"
   ]
  },
  {
   "cell_type": "code",
   "execution_count": null,
   "metadata": {},
   "outputs": [],
   "source": [
    "import matplotlib.pyplot as plt\n",
    "\n",
    "df[['carat', 'depth', 'table', 'price', 'x', 'z','y']].hist(bins=50, figsize=(20, 15))\n",
    "plt.show()"
   ]
  },
  {
   "cell_type": "code",
   "execution_count": null,
   "metadata": {},
   "outputs": [],
   "source": [
    "print(df.describe().to_latex())"
   ]
  },
  {
   "cell_type": "markdown",
   "metadata": {},
   "source": [
    "# Transformation:"
   ]
  },
  {
   "cell_type": "code",
   "execution_count": null,
   "metadata": {},
   "outputs": [],
   "source": [
    "df['log_carat'] = np.log(df['carat'])\n",
    "df['log_price'] = np.log(df['price'])\n",
    "\n",
    "df[['price', 'carat',  'log_price','log_carat']].hist(bins=50, figsize=(20, 15))\n",
    "plt.show()\n"
   ]
  },
  {
   "cell_type": "code",
   "execution_count": null,
   "metadata": {},
   "outputs": [],
   "source": [
    "import seaborn as sns\n",
    "\n",
    "corr_matrix = df.corr()\n",
    "\n",
    "# Draw the heatmap\n",
    "plt.figure(figsize=(10, 8))\n",
    "sns.heatmap(corr_matrix, annot=True, cmap='coolwarm', fmt='.2f')\n",
    "plt.title('Correlation Heatmap')\n",
    "plt.show()"
   ]
  },
  {
   "cell_type": "code",
   "execution_count": null,
   "metadata": {},
   "outputs": [],
   "source": [
    "import seaborn as sns\n",
    "import matplotlib.pyplot as plt\n",
    "\n",
    "df_sampled = df.sample(n=1000, random_state=42)\n",
    "\n",
    "columns_to_plot = ['log_price', 'cut', 'clarity', 'color', 'x','z', 'y']\n",
    "\n",
    "# Used co pilot to help with creating noise.\n",
    "df_sampled['cut'] = df_sampled['cut'] + np.random.normal(0, 0.1, df_sampled['cut'].shape)\n",
    "df_sampled['clarity'] = df_sampled['clarity'] + np.random.normal(0, 0.1, df_sampled['clarity'].shape)\n",
    "df_sampled['color'] = df_sampled['color'] + np.random.normal(0, 0.1, df_sampled['color'].shape)\n",
    "\n",
    "sns.pairplot(df_sampled[columns_to_plot], plot_kws={'alpha':0.5})\n",
    "plt.show()\n"
   ]
  },
  {
   "cell_type": "code",
   "execution_count": null,
   "metadata": {},
   "outputs": [],
   "source": [
    "print(df[['log_price', 'log_carat','cut', 'clarity', 'color', 'x', 'z', 'y']]\n",
    "      .describe()\n",
    "      .to_latex(float_format=\"%.3f\"))"
   ]
  },
  {
   "cell_type": "code",
   "execution_count": null,
   "metadata": {},
   "outputs": [],
   "source": [
    "df[['cut', 'clarity', 'color', 'log_price', 'log_carat' ,'x','z', 'y']].describe()"
   ]
  },
  {
   "cell_type": "code",
   "execution_count": null,
   "metadata": {},
   "outputs": [],
   "source": [
    "# We used a code expample for IM ML excercises \n",
    "\n",
    "from scipy.linalg import svd \n",
    "\n",
    "df_norm = (df - df.mean()) / df.std(ddof=1)\n",
    "\n",
    "\n",
    "Y = df_norm.drop(['price', 'log_price', 'carat'], axis=1).values\n",
    "\n",
    "N, M = Y.shape\n",
    "\n",
    "\n",
    "\n",
    "U, S, Vh = svd(Y, full_matrices=False) \n",
    "V = Vh.T\n",
    "\n",
    "Z = Y @ V\n",
    "\n",
    "# Compute variance explained by principal components\n",
    "rho = (S * S) / (S * S).sum()\n",
    "print(rho[0:5])"
   ]
  },
  {
   "cell_type": "code",
   "execution_count": null,
   "metadata": {},
   "outputs": [],
   "source": [
    "# We used a code expample for IM ML excercises \n",
    "\n",
    "plt.figure(figsize=(10, 6))\n",
    "plt.plot(range(1, len(rho) + 1), rho, 'o-', linewidth=2, markersize=8)\n",
    "plt.title('Explained Variance by Principal Components')\n",
    "plt.xlabel('Principal Component')\n",
    "plt.ylabel('Explained Variance')\n",
    "plt.grid(True)\n",
    "plt.show()"
   ]
  },
  {
   "cell_type": "code",
   "execution_count": null,
   "metadata": {},
   "outputs": [],
   "source": [
    "# Used copilot to help with structuring the plot.\n",
    "\n",
    "sample_indices = np.random.choice(Z.shape[0], size=1000, replace=False)\n",
    "\n",
    "print(len(sample_indices))\n",
    "\n",
    "Z_sample = Z[sample_indices, :]\n",
    "\n",
    "print(Z_sample)\n",
    "\n",
    "colors = df['cut'].iloc[sample_indices]\n",
    "\n",
    "unique_colors = ['Fair', 'Good', 'Ideal', 'Premium', 'Very Good']\n",
    "unique_colors = [1, 2, 3, 4, 5]\n",
    "color_map = {color: idx / (len(unique_colors) - 1) for idx, color in enumerate(unique_colors)}\n",
    "color_values = colors.map(color_map)\n",
    "\n",
    "scatter = plt.scatter(Z_sample[:, 0], Z_sample[:, 1], c=color_values, cmap='viridis', alpha=0.8)\n",
    "plt.xlabel('PCA 1')\n",
    "plt.ylabel('PCA 2')\n",
    "plt.title('PCA 1 vs PCA 2, Color indicating type of cut')\n",
    "\n",
    "# Create legend with color labels\n",
    "handles = [plt.Line2D([0], [0], marker='o', color='w', markerfacecolor=plt.cm.viridis(color_map[color]), markersize=10) for color in unique_colors]\n",
    "plt.legend(handles, unique_colors, title=\"Cut\", loc=\"best\")\n",
    "\n",
    "plt.show()"
   ]
  },
  {
   "cell_type": "code",
   "execution_count": null,
   "metadata": {},
   "outputs": [],
   "source": [
    "# Used copilot to help with structuring the plot.\n",
    "\n",
    "import numpy as np\n",
    "import matplotlib.pyplot as plt\n",
    "\n",
    "sample_indices = np.random.choice(Z.shape[0], size=1000, replace=False)\n",
    "\n",
    "Z_sample = Z[sample_indices, :]\n",
    "colors = df['cut'].iloc[sample_indices]\n",
    "prices = df['log_price'].iloc[sample_indices]\n",
    "\n",
    "unique_colors = [1,2,3,4,5]\n",
    "color_map = {color: idx / (len(unique_colors) - 1) for idx, color in enumerate(unique_colors)}\n",
    "color_values = colors.map(color_map)\n",
    "\n",
    "\n",
    "fig, axes = plt.subplots(1, 2, figsize=(14, 6))  # 1 row, 2 columns\n",
    "\n",
    "scatter1 = axes[0].scatter(Z_sample[:, 0], Z_sample[:, 1], c=color_values, cmap='viridis', alpha=0.8)\n",
    "axes[0].set_xlabel('PCA 1')\n",
    "axes[0].set_ylabel('PCA 2')\n",
    "axes[0].set_title('PCA 1 vs PCA 2 (Cut Type)')\n",
    "\n",
    "\n",
    "handles = [plt.Line2D([0], [0], marker='o', color='w', markerfacecolor=plt.cm.viridis(color_map[color]), markersize=10) for color in unique_colors]\n",
    "axes[0].legend(handles, unique_colors, title=\"Cut\", loc=\"best\")\n",
    "\n",
    "\n",
    "scatter2 = axes[1].scatter(Z_sample[:, 0], Z_sample[:, 1], c=prices, cmap='viridis', alpha=0.8)\n",
    "axes[1].set_xlabel('PCA 1')\n",
    "axes[1].set_ylabel('PCA 2')\n",
    "axes[1].set_title('PCA 1 vs PCA 2 (Price)')\n",
    "\n",
    "\n",
    "cbar = fig.colorbar(scatter2, ax=axes[1])\n",
    "cbar.set_label('Log Price')\n",
    "\n",
    "\n",
    "plt.tight_layout()\n",
    "plt.show()\n"
   ]
  }
 ],
 "metadata": {
  "kernelspec": {
   "display_name": "base",
   "language": "python",
   "name": "python3"
  },
  "language_info": {
   "codemirror_mode": {
    "name": "ipython",
    "version": 3
   },
   "file_extension": ".py",
   "mimetype": "text/x-python",
   "name": "python",
   "nbconvert_exporter": "python",
   "pygments_lexer": "ipython3",
   "version": "3.12.7"
  }
 },
 "nbformat": 4,
 "nbformat_minor": 2
}
